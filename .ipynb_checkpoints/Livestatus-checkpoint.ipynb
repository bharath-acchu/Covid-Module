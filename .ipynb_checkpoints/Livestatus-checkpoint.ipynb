{
 "cells": [
  {
   "cell_type": "code",
   "execution_count": 4,
   "metadata": {},
   "outputs": [
    {
     "name": "stdout",
     "output_type": "stream",
     "text": [
      "Toatal active cases :2770832\n",
      "Total confirmed cases : 4996634\n",
      "Total recovered cases :1897473\n",
      "Total deaths :328120\n"
     ]
    }
   ],
   "source": [
    "import time\n",
    "\n",
    "from covid import Covid\n",
    "\n",
    "covid = Covid()\n",
    "\n",
    "def covid_worldwide():\n",
    "    x = 0\n",
    "    while x < 1:\n",
    "        \n",
    "        print(\"Toatal active cases :{}\".format(covid.get_total_active_cases()))\n",
    "        time.sleep(3)\n",
    "        x= x+1\n",
    "        print(\"Total confirmed cases : {}\".format(covid.get_total_confirmed_cases()))\n",
    "        time.sleep(3)\n",
    "        x = x+1\n",
    "        print(\"Total recovered cases :{}\".format(covid.get_total_recovered()))\n",
    "        time.sleep(3)\n",
    "        x = x+1\n",
    "        print(\"Total deaths :{}\".format(covid.get_total_deaths()))\n",
    "        time.sleep(2)\n",
    "\n",
    "\n",
    "\n",
    "covid_worldwide()"
   ]
  },
  {
   "cell_type": "code",
   "execution_count": null,
   "metadata": {},
   "outputs": [],
   "source": []
  }
 ],
 "metadata": {
  "kernelspec": {
   "display_name": "Python 3",
   "language": "python",
   "name": "python3"
  },
  "language_info": {
   "codemirror_mode": {
    "name": "ipython",
    "version": 3
   },
   "file_extension": ".py",
   "mimetype": "text/x-python",
   "name": "python",
   "nbconvert_exporter": "python",
   "pygments_lexer": "ipython3",
   "version": "3.7.6"
  }
 },
 "nbformat": 4,
 "nbformat_minor": 4
}
