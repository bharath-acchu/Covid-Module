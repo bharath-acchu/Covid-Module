{
 "cells": [
  {
   "cell_type": "code",
   "execution_count": 11,
   "metadata": {},
   "outputs": [
    {
     "name": "stdout",
     "output_type": "stream",
     "text": [
      "\n",
      "Enter country name  :India\n",
      "{'id': '91', 'country': 'India', 'confirmed': 112442, 'active': 63582, 'deaths': 3438, 'recovered': 45422, 'latitude': 20.593684, 'longitude': 78.96288, 'last_update': 1590035560000}\n"
     ]
    }
   ],
   "source": [
    "import time\n",
    "\n",
    "from covid import Covid\n",
    "\n",
    "covid = Covid()\n",
    "\n",
    "country = input(\"\\nEnter country name  :\")\n",
    "\n",
    "data = covid.get_status_by_country_name(country.lower())\n",
    "print(data)\n",
    "time.sleep(5)"
   ]
  },
  {
   "cell_type": "code",
   "execution_count": null,
   "metadata": {},
   "outputs": [],
   "source": []
  }
 ],
 "metadata": {
  "kernelspec": {
   "display_name": "Python 3",
   "language": "python",
   "name": "python3"
  },
  "language_info": {
   "codemirror_mode": {
    "name": "ipython",
    "version": 3
   },
   "file_extension": ".py",
   "mimetype": "text/x-python",
   "name": "python",
   "nbconvert_exporter": "python",
   "pygments_lexer": "ipython3",
   "version": "3.7.6"
  }
 },
 "nbformat": 4,
 "nbformat_minor": 4
}
